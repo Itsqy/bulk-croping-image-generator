{
  "nbformat": 4,
  "nbformat_minor": 0,
  "metadata": {
    "colab": {
      "provenance": [],
      "include_colab_link": true
    },
    "kernelspec": {
      "name": "python3",
      "display_name": "Python 3"
    },
    "language_info": {
      "name": "python"
    }
  },
  "cells": [
    {
      "cell_type": "markdown",
      "metadata": {
        "id": "view-in-github",
        "colab_type": "text"
      },
      "source": [
        "<a href=\"https://colab.research.google.com/github/Itsqy/bulk-croping-image-generator/blob/main/profile_siswa_rectangle_generator.ipynb\" target=\"_parent\"><img src=\"https://colab.research.google.com/assets/colab-badge.svg\" alt=\"Open In Colab\"/></a>"
      ]
    },
    {
      "cell_type": "code",
      "source": [
        "# Install necessary libraries\n",
        "!pip install pandas requests\n",
        "!pip install pandas requests pillow\n",
        "!pip install gdown pandas pillow"
      ],
      "metadata": {
        "id": "iCrFPq0mNdtj"
      },
      "execution_count": null,
      "outputs": []
    },
    {
      "cell_type": "code",
      "source": [
        "\n",
        "# Import required libraries\n",
        "import pandas as pd\n",
        "import requests\n",
        "import os\n",
        "import gdown\n",
        "from PIL import Image\n",
        "from zipfile import ZipFile\n",
        "from PIL import Image, ExifTags\n",
        "\n",
        "# Path to your uploaded CSV file\n",
        "csv_file_path = \"/content/dataset_profil.csv\"  # Replace 'your_file.csv' with the uploaded file name\n",
        "\n",
        "# Read the CSV file\n",
        "df = pd.read_csv(csv_file_path)\n",
        "\n",
        "# Column name containing image URLs (replace 'Image_URL' with the name of your column)\n",
        "url_column = \"Image_URL\"\n",
        "\n",
        "\n",
        "# Create a folder to save the images\n",
        "output_folder = \"/content/downloaded_images\"\n",
        "processed_folder = \"/content/processed_images\"\n",
        "os.makedirs(output_folder, exist_ok=True)\n",
        "os.makedirs(processed_folder, exist_ok=True)\n"
      ],
      "metadata": {
        "id": "nEEGKBk0dM0_"
      },
      "execution_count": null,
      "outputs": []
    },
    {
      "cell_type": "code",
      "source": [
        "\n",
        "\n",
        "# Function to fix image orientation based on EXIF data\n",
        "def correct_orientation(image):\n",
        "    try:\n",
        "        # Get EXIF data\n",
        "        exif = image._getexif()\n",
        "        if exif is not None:\n",
        "            # Find the orientation tag\n",
        "            for tag, value in exif.items():\n",
        "                if tag == 274:  # Orientation tag\n",
        "                    if value == 3:\n",
        "                        image = image.rotate(180, expand=True)\n",
        "                    elif value == 6:\n",
        "                        image = image.rotate(270, expand=True)\n",
        "                    elif value == 8:\n",
        "                        image = image.rotate(90, expand=True)\n",
        "    except (AttributeError, KeyError, IndexError):\n",
        "        # If there's no EXIF data or the orientation can't be read, return the image as-is\n",
        "        pass\n",
        "    return image\n",
        "\n",
        "# Function to crop the center part and resize images\n",
        "def crop_center_and_resize(image_path, output_path, size=(413, 413)):\n",
        "    with Image.open(image_path) as img:\n",
        "        # Correct the orientation of the image based on EXIF data\n",
        "        img = correct_orientation(img)\n",
        "\n",
        "        # Get the dimensions of the image\n",
        "        width, height = img.size\n",
        "\n",
        "        # Define the width of the portion you want to keep (center crop)\n",
        "        crop_width = min(width, size[0])  # Ensure the crop width is no larger than the desired size\n",
        "\n",
        "        # Calculate the cropping coordinates to crop the center\n",
        "        left = (width - crop_width) // 2  # Left side of the crop (center)\n",
        "        right = left + crop_width  # Right side of the crop (center)\n",
        "\n",
        "        # Crop the image (center portion)\n",
        "        img_cropped = img.crop((left, 0, right, height))\n",
        "\n",
        "        # Resize the cropped image to the desired size (413x413)\n",
        "        img_resized = img_cropped.resize(size, Image.Resampling.LANCZOS)\n",
        "\n",
        "        # Save the processed image\n",
        "        img_resized.save(output_path)\n",
        "        print(f\"Processed and saved: {output_path}\")\n"
      ],
      "metadata": {
        "id": "dM5MXIgZd87f"
      },
      "execution_count": null,
      "outputs": []
    },
    {
      "cell_type": "code",
      "source": [
        "# Function to extract Google Drive file ID from the URL\n",
        "def extract_drive_id(url):\n",
        "    # Handle drive.google.com links\n",
        "    if \"drive.google.com\" in url:\n",
        "        if \"id=\" in url:\n",
        "            return url.split(\"id=\")[-1]\n",
        "        elif \"/d/\" in url:\n",
        "            return url.split(\"/d/\")[1].split(\"/\")[0]\n",
        "    return None\n",
        "\n",
        "\n",
        "# Function to crop and resize images\n",
        "def crop_and_resize(image_path, output_path, size=(1000, 1000)):\n",
        "    with Image.open(image_path) as img:\n",
        "\n",
        "        img = correct_orientation(img)\n",
        "\n",
        "        # Get the dimensions of the image\n",
        "        width, height = img.size\n",
        "\n",
        "        # Determine the crop area to create a square\n",
        "        crop_size = min(width, height)\n",
        "        left = (width - crop_size) / 2\n",
        "        top = (height - crop_size) / 2\n",
        "        right = (width + crop_size) / 2\n",
        "        bottom = (height + crop_size) / 3\n",
        "\n",
        "        # Crop and resize the image\n",
        "        img_cropped = img.crop((left, 0, right, bottom))\n",
        "        img_resized = img_cropped.resize(size, Image.Resampling.LANCZOS)  # Updated resizing method\n",
        "\n",
        "        # Save the processed image\n",
        "        img_resized.save(output_path)\n",
        "        print(f\"Processed and saved: {output_path}\")\n",
        "# Download and process images\n",
        "for index, row in df.iterrows():\n",
        "    url = row[url_column]\n",
        "    try:\n",
        "        # Extract Google Drive file ID\n",
        "        # file_id = extract_drive_id(url)\n",
        "        # if not file_id:\n",
        "        #     print(f\"Invalid Google Drive link: {url}\")\n",
        "        #     continue\n",
        "\n",
        "        # Download the image using gdown\n",
        "        output_file_path = os.path.join(output_folder, f\"image_{index + 1}.jpg\")\n",
        "        # gdown.download(f\"https://drive.google.com/uc?id={file_id}\", output_file_path, quiet=False)\n",
        "\n",
        "        # Process (crop and resize) the image\n",
        "        processed_file_path = os.path.join(processed_folder, f\"image_{index + 1}.jpg\")\n",
        "        crop_and_resize(output_file_path, processed_file_path)\n",
        "    except Exception as e:\n",
        "        print(f\"Failed to process {url}: {e}\")\n",
        "\n"
      ],
      "metadata": {
        "colab": {
          "base_uri": "https://localhost:8080/"
        },
        "id": "lzsKL0EldK-T",
        "outputId": "4c83f5fb-8a28-47b5-d271-cd8d3b2e7200"
      },
      "execution_count": null,
      "outputs": [
        {
          "output_type": "stream",
          "name": "stdout",
          "text": [
            "Processed and saved: /content/processed_images/image_1.jpg\n",
            "Processed and saved: /content/processed_images/image_2.jpg\n",
            "Processed and saved: /content/processed_images/image_3.jpg\n",
            "Processed and saved: /content/processed_images/image_4.jpg\n",
            "Processed and saved: /content/processed_images/image_5.jpg\n",
            "Processed and saved: /content/processed_images/image_6.jpg\n",
            "Processed and saved: /content/processed_images/image_7.jpg\n",
            "Processed and saved: /content/processed_images/image_8.jpg\n",
            "Processed and saved: /content/processed_images/image_9.jpg\n",
            "Processed and saved: /content/processed_images/image_10.jpg\n",
            "Processed and saved: /content/processed_images/image_11.jpg\n",
            "Processed and saved: /content/processed_images/image_12.jpg\n",
            "Processed and saved: /content/processed_images/image_13.jpg\n",
            "Processed and saved: /content/processed_images/image_14.jpg\n",
            "Processed and saved: /content/processed_images/image_15.jpg\n",
            "Processed and saved: /content/processed_images/image_16.jpg\n",
            "Processed and saved: /content/processed_images/image_17.jpg\n",
            "Processed and saved: /content/processed_images/image_18.jpg\n",
            "Processed and saved: /content/processed_images/image_19.jpg\n",
            "Processed and saved: /content/processed_images/image_20.jpg\n"
          ]
        }
      ]
    },
    {
      "cell_type": "code",
      "source": [
        "import shutil\n",
        "\n",
        "# Specify the folder to zip\n",
        "folder_to_zip = \"/content/processed_images\"  # Replace with your folder path\n",
        "output_zip_file = \"/content/1080mb_poto_siswa.zip\"\n",
        "\n",
        "# Zip the folder\n",
        "shutil.make_archive(output_zip_file.replace(\".zip\", \"\"), 'zip', folder_to_zip)\n",
        "\n",
        "print(f\"Folder zipped into: {output_zip_file}\")\n"
      ],
      "metadata": {
        "colab": {
          "base_uri": "https://localhost:8080/"
        },
        "id": "IYFkCJQfmMYW",
        "outputId": "9eaab0ee-c4cf-4c6e-c7dc-6602fe7c4e25"
      },
      "execution_count": null,
      "outputs": [
        {
          "output_type": "stream",
          "name": "stdout",
          "text": [
            "Folder zipped into: /content/1080mb_poto_siswa.zip\n"
          ]
        }
      ]
    }
  ]
}